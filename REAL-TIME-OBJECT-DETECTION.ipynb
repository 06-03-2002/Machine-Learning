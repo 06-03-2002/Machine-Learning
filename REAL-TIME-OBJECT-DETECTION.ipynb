{
 "cells": [
  {
   "cell_type": "code",
   "execution_count": 2,
   "metadata": {},
   "outputs": [],
   "source": [
    "import cv2\n",
    "import numpy as np\n",
    "from ultralytics import YOLO\n",
    "import time\n",
    "import matplotlib.pyplot as plt\n"
   ]
  },
  {
   "cell_type": "code",
   "execution_count": 3,
   "metadata": {},
   "outputs": [],
   "source": [
    "model = YOLO(\"best -(2).pt\")"
   ]
  },
  {
   "cell_type": "code",
   "execution_count": 4,
   "metadata": {},
   "outputs": [],
   "source": [
    "def get_prediction(image):\n",
    "    results = model.predict(image)\n",
    "    result = results[0]\n",
    "    class_names = result.names\n",
    "    output = []\n",
    "    for box in result.boxes:\n",
    "        x1, y1, x2, y2 = [round(x) for x in box.xyxy[0].tolist()]\n",
    "        class_id = box.cls[0].item()\n",
    "        probability = round(box.conf[0].item(), 2)\n",
    "        if(probability < 0.45):\n",
    "            continue\n",
    "        output.append({\n",
    "            \"x1\": x1,\n",
    "            \"y1\": y1,\n",
    "            \"x2\": x2,\n",
    "            \"y2\": y2,\n",
    "            \"class_name\": class_names[class_id],\n",
    "            \"probability\": probability\n",
    "        })\n",
    "        # print(output)\n",
    "    return output"
   ]
  },
  {
   "cell_type": "code",
   "execution_count": 7,
   "metadata": {},
   "outputs": [],
   "source": [
    "# cap = cv2.VideoCapture(0)\n",
    "cap = cv2.VideoCapture('http://192.168.0.210:8080') "
   ]
  },
  {
   "cell_type": "code",
   "execution_count": 9,
   "metadata": {},
   "outputs": [
    {
     "name": "stdout",
     "output_type": "stream",
     "text": [
      "WARNING  'source' is missing. Using 'source=C:\\Users\\Asus\\miniconda3\\envs\\dl\\Lib\\site-packages\\ultralytics\\assets'.\n",
      "\n",
      "image 1/2 C:\\Users\\Asus\\miniconda3\\envs\\dl\\Lib\\site-packages\\ultralytics\\assets\\bus.jpg: 640x480 2 cars, 159.0ms\n",
      "image 2/2 C:\\Users\\Asus\\miniconda3\\envs\\dl\\Lib\\site-packages\\ultralytics\\assets\\zidane.jpg: 384x640 1 car, 46.7ms\n",
      "Speed: 5.0ms preprocess, 102.8ms inference, 0.0ms postprocess per image at shape (1, 3, 384, 640)\n",
      "WARNING  'source' is missing. Using 'source=C:\\Users\\Asus\\miniconda3\\envs\\dl\\Lib\\site-packages\\ultralytics\\assets'.\n",
      "\n",
      "image 1/2 C:\\Users\\Asus\\miniconda3\\envs\\dl\\Lib\\site-packages\\ultralytics\\assets\\bus.jpg: 640x480 2 cars, 16.0ms\n",
      "image 2/2 C:\\Users\\Asus\\miniconda3\\envs\\dl\\Lib\\site-packages\\ultralytics\\assets\\zidane.jpg: 384x640 1 car, 17.0ms\n",
      "Speed: 1.6ms preprocess, 16.5ms inference, 2.7ms postprocess per image at shape (1, 3, 384, 640)\n",
      "car 0.93\n"
     ]
    },
    {
     "ename": "error",
     "evalue": "OpenCV(4.10.0) D:\\a\\opencv-python\\opencv-python\\opencv\\modules\\imgproc\\src\\color.cpp:196: error: (-215:Assertion failed) !_src.empty() in function 'cv::cvtColor'\n",
     "output_type": "error",
     "traceback": [
      "\u001b[1;31m---------------------------------------------------------------------------\u001b[0m",
      "\u001b[1;31merror\u001b[0m                                     Traceback (most recent call last)",
      "Cell \u001b[1;32mIn[9], line 11\u001b[0m\n\u001b[0;32m      8\u001b[0m     \u001b[38;5;28mprint\u001b[39m(box[\u001b[38;5;124m\"\u001b[39m\u001b[38;5;124mclass_name\u001b[39m\u001b[38;5;124m\"\u001b[39m], box[\u001b[38;5;124m\"\u001b[39m\u001b[38;5;124mprobability\u001b[39m\u001b[38;5;124m\"\u001b[39m])\n\u001b[0;32m     10\u001b[0m \u001b[38;5;66;03m# Convert the image from BGR to RGB for displaying with matplotlib\u001b[39;00m\n\u001b[1;32m---> 11\u001b[0m image_rgb \u001b[38;5;241m=\u001b[39m \u001b[43mcv2\u001b[49m\u001b[38;5;241;43m.\u001b[39;49m\u001b[43mcvtColor\u001b[49m\u001b[43m(\u001b[49m\u001b[43mframe\u001b[49m\u001b[43m,\u001b[49m\u001b[43m \u001b[49m\u001b[43mcv2\u001b[49m\u001b[38;5;241;43m.\u001b[39;49m\u001b[43mCOLOR_BGR2RGB\u001b[49m\u001b[43m)\u001b[49m\n\u001b[0;32m     13\u001b[0m \u001b[38;5;66;03m# Display the image\u001b[39;00m\n\u001b[0;32m     14\u001b[0m cv2\u001b[38;5;241m.\u001b[39mimshow(\u001b[38;5;124m\"\u001b[39m\u001b[38;5;124mimage\u001b[39m\u001b[38;5;124m\"\u001b[39m, frame)\n",
      "\u001b[1;31merror\u001b[0m: OpenCV(4.10.0) D:\\a\\opencv-python\\opencv-python\\opencv\\modules\\imgproc\\src\\color.cpp:196: error: (-215:Assertion failed) !_src.empty() in function 'cv::cvtColor'\n"
     ]
    }
   ],
   "source": [
    "while True:\n",
    "    ret, frame = cap.read()\n",
    "    model.predict(frame)\n",
    "    output = get_prediction(frame)\n",
    "    for box in output:\n",
    "        cv2.rectangle(frame, (box[\"x1\"], box[\"y1\"]), (box[\"x2\"], box[\"y2\"]), (255, 0, 0), 2)\n",
    "        cv2.putText(frame, box[\"class_name\"], (box[\"x1\"], box[\"y1\"] - 10), cv2.FONT_HERSHEY_SIMPLEX, 0.5, (255, 0, 0), 2)\n",
    "        print(box[\"class_name\"], box[\"probability\"])\n",
    "\n",
    "    # Convert the image from BGR to RGB for displaying with matplotlib\n",
    "    image_rgb = cv2.cvtColor(frame, cv2.COLOR_BGR2RGB)\n",
    "\n",
    "    # Display the image\n",
    "    cv2.imshow(\"image\", frame)\n",
    "    if cv2.waitKey(1) & 0xFF == ord('q'):\n",
    "        break\n"
   ]
  }
 ],
 "metadata": {
  "kernelspec": {
   "display_name": "dl",
   "language": "python",
   "name": "python3"
  },
  "language_info": {
   "codemirror_mode": {
    "name": "ipython",
    "version": 3
   },
   "file_extension": ".py",
   "mimetype": "text/x-python",
   "name": "python",
   "nbconvert_exporter": "python",
   "pygments_lexer": "ipython3",
   "version": "3.12.7"
  }
 },
 "nbformat": 4,
 "nbformat_minor": 2
}
