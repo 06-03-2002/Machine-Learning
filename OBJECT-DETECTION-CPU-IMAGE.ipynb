{
 "cells": [
  {
   "cell_type": "code",
   "execution_count": 1,
   "metadata": {},
   "outputs": [],
   "source": [
    "import cv2\n",
    "import numpy as np\n",
    "from ultralytics import YOLO\n",
    "import time\n",
    "import matplotlib.pyplot as plt\n"
   ]
  },
  {
   "cell_type": "code",
   "execution_count": 9,
   "metadata": {},
   "outputs": [],
   "source": [
    "model = YOLO(\"best -(2).pt\")"
   ]
  },
  {
   "cell_type": "code",
   "execution_count": 3,
   "metadata": {},
   "outputs": [],
   "source": [
    "def get_prediction(image):\n",
    "    results = model.predict(image)\n",
    "    result = results[0]\n",
    "    class_names = result.names\n",
    "    output = []\n",
    "    for box in result.boxes:\n",
    "        x1, y1, x2, y2 = [round(x) for x in box.xyxy[0].tolist()]\n",
    "        class_id = box.cls[0].item()\n",
    "        probability = round(box.conf[0].item(), 2)\n",
    "        if(probability < 0.45):\n",
    "            continue\n",
    "        output.append({\n",
    "            \"x1\": x1,\n",
    "            \"y1\": y1,\n",
    "            \"x2\": x2,\n",
    "            \"y2\": y2,\n",
    "            \"class_name\": class_names[class_id],\n",
    "            \"probability\": probability\n",
    "        })\n",
    "        print(output)\n",
    "    return output"
   ]
  },
  {
   "cell_type": "code",
   "execution_count": 15,
   "metadata": {},
   "outputs": [
    {
     "name": "stdout",
     "output_type": "stream",
     "text": [
      "\n",
      "0: 384x640 1 car, 136.4ms\n",
      "Speed: 8.0ms preprocess, 136.4ms inference, 6.8ms postprocess per image at shape (1, 3, 384, 640)\n",
      "\n",
      "0: 384x640 1 car, 138.9ms\n",
      "Speed: 0.0ms preprocess, 138.9ms inference, 6.5ms postprocess per image at shape (1, 3, 384, 640)\n",
      "[{'x1': 50, 'y1': 48, 'x2': 253, 'y2': 119, 'class_name': 'car', 'probability': 0.73}]\n",
      "car 0.73\n"
     ]
    },
    {
     "data": {
      "text/plain": [
       "-1"
      ]
     },
     "execution_count": 15,
     "metadata": {},
     "output_type": "execute_result"
    }
   ],
   "source": [
    "# For Single Image\n",
    "image = cv2.imread(\"to.jpg\")\n",
    "model.predict(image)\n",
    "output = get_prediction(image)\n",
    "for box in output:\n",
    "    cv2.rectangle(image, (box[\"x1\"], box[\"y1\"]), (box[\"x2\"], box[\"y2\"]), (255, 0, 0), 2)\n",
    "    cv2.putText(image, box[\"class_name\"], (box[\"x1\"], box[\"y1\"] - 10), cv2.FONT_HERSHEY_SIMPLEX, 0.5, (255, 0, 0), 2)\n",
    "    print(box[\"class_name\"], box[\"probability\"])\n",
    "\n",
    "# Convert the image from BGR to RGB for displaying with matplotlib\n",
    "image_rgb = cv2.cvtColor(image, cv2.COLOR_BGR2RGB)\n",
    "\n",
    "# Display the image\n",
    "# plt.imshow(image_rgb)\n",
    "# plt.axis('off')  # Optional: turn off the axis\n",
    "# plt.show()\n",
    "cv2.imshow(\"image\", image)\n",
    "cv2.waitKey(0)\n"
   ]
  }
 ],
 "metadata": {
  "kernelspec": {
   "display_name": "dl",
   "language": "python",
   "name": "python3"
  },
  "language_info": {
   "codemirror_mode": {
    "name": "ipython",
    "version": 3
   },
   "file_extension": ".py",
   "mimetype": "text/x-python",
   "name": "python",
   "nbconvert_exporter": "python",
   "pygments_lexer": "ipython3",
   "version": "3.12.7"
  }
 },
 "nbformat": 4,
 "nbformat_minor": 2
}
